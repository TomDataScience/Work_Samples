{
 "cells": [
  {
   "cell_type": "code",
   "execution_count": 20,
   "id": "d8518832",
   "metadata": {},
   "outputs": [
    {
     "data": {
      "text/plain": [
       "<matplotlib.image.AxesImage at 0x22594fb7f10>"
      ]
     },
     "execution_count": 20,
     "metadata": {},
     "output_type": "execute_result"
    }
   ],
   "source": [
    "import matplotlib.pyplot as plt\n",
    "import numpy as np                        #So we can check the image array if we need to add images together. \n",
    "from PIL import Image                      #To Pull images \n",
    "import matplotlib.pyplot as plt           #So we can plot the image on a grid.\n",
    "from mpl_toolkits.mplot3d import Axes3D\n",
    "from mpl_toolkits.mplot3d import axes3d\n",
    "from mpl_toolkits.mplot3d.art3d import Poly3DCollection, Line3DCollection\n",
    "%matplotlib inline\n",
    "%matplotlib qt\n",
    "\n",
    "##Pulling Images#####\n",
    "picture = Image.open('Save.jpg')  ###File Location Should be in the same folder as the program.\n",
    "plt.axis(True)\n",
    "plt.imshow(picture) #Gets the Dimensions so we know where to crop it. Axis needs to be true\n",
    "\n",
    "# Setting the points for cropped image\n",
    "left = 0\n",
    "top = 0\n",
    "right = 115\n",
    "bottom = 160\n",
    " \n",
    "##Original image is being cropped based on dimenson. \n",
    "im1 = picture.crop((left, top, right, bottom))\n",
    "\n",
    "plt.axis(False) # False removes the access for Easy Formatting. \n",
    "plt.imshow(im1)"
   ]
  },
  {
   "cell_type": "code",
   "execution_count": null,
   "id": "d85b0b1b",
   "metadata": {},
   "outputs": [],
   "source": []
  }
 ],
 "metadata": {
  "kernelspec": {
   "display_name": "Python 3 (ipykernel)",
   "language": "python",
   "name": "python3"
  },
  "language_info": {
   "codemirror_mode": {
    "name": "ipython",
    "version": 3
   },
   "file_extension": ".py",
   "mimetype": "text/x-python",
   "name": "python",
   "nbconvert_exporter": "python",
   "pygments_lexer": "ipython3",
   "version": "3.10.9"
  }
 },
 "nbformat": 4,
 "nbformat_minor": 5
}
